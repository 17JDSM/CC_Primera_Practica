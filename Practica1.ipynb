{
  "nbformat": 4,
  "nbformat_minor": 0,
  "metadata": {
    "colab": {
      "name": "Practica1.ipynb",
      "provenance": [],
      "collapsed_sections": []
    },
    "kernelspec": {
      "name": "python3",
      "display_name": "Python 3"
    },
    "language_info": {
      "name": "python"
    }
  },
  "cells": [
    {
      "cell_type": "markdown",
      "source": [
        "# **Complejidad Computacional**\n",
        "\n",
        "Unidad: Complejidad Algorítmica\n",
        "\n",
        "Profesor: Luis Chamba-Eras\n",
        "\n",
        "Nombre: Jonathan David Sefla Macas    4to B\n",
        "\n",
        "Revisión del código"
      ],
      "metadata": {
        "id": "bg7Pr0xIGZuh"
      }
    },
    {
      "cell_type": "markdown",
      "source": [
        "Algoritmo 1:"
      ],
      "metadata": {
        "id": "2V6_xTeRHnVD"
      }
    },
    {
      "cell_type": "code",
      "source": [
        "def fact(n):\n",
        "    product = 1\n",
        "    for i in range(n):\n",
        "        product = product * (i+1)\n",
        "    return product\n",
        "\n",
        "print (fact(10))"
      ],
      "metadata": {
        "colab": {
          "base_uri": "https://localhost:8080/"
        },
        "id": "F1FGuL7THe1P",
        "outputId": "8e64d19c-0eb4-43b8-a494-8a2ef5b225cd"
      },
      "execution_count": null,
      "outputs": [
        {
          "output_type": "stream",
          "name": "stdout",
          "text": [
            "3628800\n"
          ]
        }
      ]
    },
    {
      "cell_type": "markdown",
      "source": [
        "Algoritmo 2:"
      ],
      "metadata": {
        "id": "_j9isgw2HrMc"
      }
    },
    {
      "cell_type": "code",
      "source": [
        "def fact2(n):\n",
        "    if n == 0:\n",
        "        return 1\n",
        "    else:\n",
        "        return n * fact2(n-1)\n",
        "\n",
        "print (fact2(10))"
      ],
      "metadata": {
        "colab": {
          "base_uri": "https://localhost:8080/"
        },
        "id": "7ezj3DJ3HtcR",
        "outputId": "fa781fe1-4022-494a-ef6b-949287fe5b46"
      },
      "execution_count": null,
      "outputs": [
        {
          "output_type": "stream",
          "name": "stdout",
          "text": [
            "3628800\n"
          ]
        }
      ]
    },
    {
      "cell_type": "markdown",
      "source": [
        "Tiempo de ejecución de los algoritmos:"
      ],
      "metadata": {
        "id": "J4lMldv-JrDs"
      }
    },
    {
      "cell_type": "code",
      "source": [
        "#Algoritmo 1\n",
        "%timeit fact(300)"
      ],
      "metadata": {
        "colab": {
          "base_uri": "https://localhost:8080/"
        },
        "id": "653gHsDVJvMP",
        "outputId": "a1e0a81d-5e20-4701-8a66-bfeae42c38e7"
      },
      "execution_count": null,
      "outputs": [
        {
          "output_type": "stream",
          "name": "stdout",
          "text": [
            "10000 loops, best of 5: 39.3 µs per loop\n"
          ]
        }
      ]
    },
    {
      "cell_type": "code",
      "source": [
        "\n",
        "#Algoritmo 2\n",
        "%timeit fact2(300)"
      ],
      "metadata": {
        "colab": {
          "base_uri": "https://localhost:8080/"
        },
        "id": "8dczON2kJ-5Q",
        "outputId": "9c04bedc-2a0d-4a31-86bc-a9cfc151f804"
      },
      "execution_count": null,
      "outputs": [
        {
          "output_type": "stream",
          "name": "stdout",
          "text": [
            "10000 loops, best of 5: 66.7 µs per loop\n"
          ]
        }
      ]
    },
    {
      "cell_type": "markdown",
      "source": [
        "Complejidad Constante:"
      ],
      "metadata": {
        "id": "JhvlASZGLzoi"
      }
    },
    {
      "cell_type": "code",
      "source": [
        "def constant_algo(items):\n",
        "    result = items[1] * items[3]\n",
        "    print (result)\n",
        "\n",
        "constant_algo([4, 5, 6, 8])"
      ],
      "metadata": {
        "colab": {
          "base_uri": "https://localhost:8080/"
        },
        "id": "8OqhzUbTL2Ly",
        "outputId": "0a3d0f20-1a47-4b97-cccd-1e0a290a3cbf"
      },
      "execution_count": null,
      "outputs": [
        {
          "output_type": "stream",
          "name": "stdout",
          "text": [
            "40\n"
          ]
        }
      ]
    },
    {
      "cell_type": "code",
      "source": [
        "import matplotlib.pyplot as plt\n",
        "import numpy as np\n",
        "\n",
        "x = [1, 2, 3, 4, 5, 6]\n",
        "\n",
        "y = [6, 6, 6, 6, 6, 6]\n",
        "\n",
        "plt.plot(x, y, 'b')\n",
        "plt.xlabel('Entradas')\n",
        "plt.ylabel('Pasos')\n",
        "plt.title('Complejidad Constante')\n",
        "plt.show()"
      ],
      "metadata": {
        "colab": {
          "base_uri": "https://localhost:8080/",
          "height": 295
        },
        "id": "_0ud7HPWMf5y",
        "outputId": "ab1920f4-1f37-4148-e6fa-ff7f8e629fa7"
      },
      "execution_count": null,
      "outputs": [
        {
          "output_type": "display_data",
          "data": {
            "image/png": "[encoded data removed]",
            "text/plain": [
              "<Figure size 432x288 with 1 Axes>"
            ]
          },
          "metadata": {
            "needs_background": "light"
          }
        }
      ]
    },
    {
      "cell_type": "markdown",
      "source": [
        "Complejidad Lineal:"
      ],
      "metadata": {
        "id": "nghTsN-wM7KN"
      }
    },
    {
      "cell_type": "code",
      "source": [
        "def linear_algo(items):\n",
        "    for item in items:\n",
        "        print(item)\n",
        "\n",
        "linear_algo([1, 2, 3, 4])"
      ],
      "metadata": {
        "colab": {
          "base_uri": "https://localhost:8080/"
        },
        "id": "lNBH1237NHOo",
        "outputId": "24772ae1-765c-455d-e13a-5b90ab9c236b"
      },
      "execution_count": null,
      "outputs": [
        {
          "output_type": "stream",
          "name": "stdout",
          "text": [
            "1\n",
            "2\n",
            "3\n",
            "4\n"
          ]
        }
      ]
    },
    {
      "cell_type": "code",
      "source": [
        "import matplotlib.pyplot as plt\n",
        "import numpy as np\n",
        "\n",
        "x = [1, 3, 5, 7, 9, 11]\n",
        "\n",
        "y = [1, 3, 5, 7, 9, 11]\n",
        "\n",
        "plt.plot(x, y, 'b')\n",
        "plt.xlabel('Entradas')\n",
        "plt.ylabel('Pasos')\n",
        "plt.title('Complejidad Lineal')\n",
        "plt.show()"
      ],
      "metadata": {
        "colab": {
          "base_uri": "https://localhost:8080/",
          "height": 295
        },
        "id": "_AlUCPutNPyB",
        "outputId": "25105bac-8ae3-415b-c7ff-22038eca85a0"
      },
      "execution_count": null,
      "outputs": [
        {
          "output_type": "display_data",
          "data": {
            "image/png": "[encoded data removed]",
            "text/plain": [
              "<Figure size 432x288 with 1 Axes>"
            ]
          },
          "metadata": {
            "needs_background": "light"
          }
        }
      ]
    },
    {
      "cell_type": "code",
      "source": [
        "def linear_algo(items):\n",
        "    for item in items:\n",
        "        print(item)\n",
        "\n",
        "    for item in items:\n",
        "        print(item)\n",
        "\n",
        "linear_algo([1, 2, 3, 4])"
      ],
      "metadata": {
        "colab": {
          "base_uri": "https://localhost:8080/"
        },
        "id": "2TgjHQhzNhTj",
        "outputId": "0b8ea1ae-9c83-4d42-e6c1-889da970832a"
      },
      "execution_count": null,
      "outputs": [
        {
          "output_type": "stream",
          "name": "stdout",
          "text": [
            "1\n",
            "2\n",
            "3\n",
            "4\n",
            "1\n",
            "2\n",
            "3\n",
            "4\n"
          ]
        }
      ]
    },
    {
      "cell_type": "code",
      "source": [
        "import matplotlib.pyplot as plt\n",
        "import numpy as np\n",
        "\n",
        "x = [1, 3, 5, 7, 9, 11]\n",
        "\n",
        "y = [5, 10, 15, 20, 25, 30]\n",
        "\n",
        "plt.plot(x, y, 'b')\n",
        "plt.xlabel('Entradas')\n",
        "plt.ylabel('Pasos')\n",
        "plt.title('Complejidad Lineal')\n",
        "plt.show()"
      ],
      "metadata": {
        "colab": {
          "base_uri": "https://localhost:8080/",
          "height": 295
        },
        "id": "liJPVeTVNr2d",
        "outputId": "8767d35a-633b-4277-efe6-029c909a71de"
      },
      "execution_count": null,
      "outputs": [
        {
          "output_type": "display_data",
          "data": {
            "image/png": "[encoded data removed]",
            "text/plain": [
              "<Figure size 432x288 with 1 Axes>"
            ]
          },
          "metadata": {
            "needs_background": "light"
          }
        }
      ]
    },
    {
      "cell_type": "markdown",
      "source": [
        "Complejidad Cuadrática:"
      ],
      "metadata": {
        "id": "LVUKDf68N87q"
      }
    },
    {
      "cell_type": "code",
      "source": [
        "def quadratic_algo(items):\n",
        "    for item in items:\n",
        "        for item2 in items:\n",
        "            print(item, ' ' ,item)\n",
        "\n",
        "quadratic_algo([1, 2, 3, 5])"
      ],
      "metadata": {
        "colab": {
          "base_uri": "https://localhost:8080/"
        },
        "id": "2A8n1gS8OAbb",
        "outputId": "33455ce4-2d6e-4299-c2f8-da1b1560ecd9"
      },
      "execution_count": null,
      "outputs": [
        {
          "output_type": "stream",
          "name": "stdout",
          "text": [
            "1   1\n",
            "1   1\n",
            "1   1\n",
            "1   1\n",
            "2   2\n",
            "2   2\n",
            "2   2\n",
            "2   2\n",
            "3   3\n",
            "3   3\n",
            "3   3\n",
            "3   3\n",
            "5   5\n",
            "5   5\n",
            "5   5\n",
            "5   5\n"
          ]
        }
      ]
    },
    {
      "cell_type": "markdown",
      "source": [
        "Complejidad de funciones complejas"
      ],
      "metadata": {
        "id": "RnSy2tFHOc0e"
      }
    },
    {
      "cell_type": "code",
      "source": [
        "#def complex_algo(items, items1):\n",
        "def complex_algo(items):\n",
        "    for i in range(3):\n",
        "        print (\"Python es fenomenal :D\")\n",
        "\n",
        "    for item in items:\n",
        "        print(item)\n",
        "\n",
        "    for item in items:\n",
        "    #for item in items1:\n",
        "        print(item)\n",
        "\n",
        "    print(\"Big O\")\n",
        "    print(\"Big o\")\n",
        "    # print(\"Big O\")\n",
        "\n",
        "#complex_algo([4, 5, 6, 8], [5, 5, 5, 5])\n",
        "complex_algo([1, 2, 3, 5])"
      ],
      "metadata": {
        "colab": {
          "base_uri": "https://localhost:8080/"
        },
        "id": "GkHtnXzPOaGL",
        "outputId": "15fc4d0b-1aab-4a81-8edd-c40d0704738c"
      },
      "execution_count": null,
      "outputs": [
        {
          "output_type": "stream",
          "name": "stdout",
          "text": [
            "Python es fenomenal :D\n",
            "Python es fenomenal :D\n",
            "Python es fenomenal :D\n",
            "1\n",
            "2\n",
            "3\n",
            "5\n",
            "1\n",
            "2\n",
            "3\n",
            "5\n",
            "Big O\n",
            "Big o\n"
          ]
        }
      ]
    },
    {
      "cell_type": "markdown",
      "source": [
        "O(8) + O(2n) => O(8) + O(n)"
      ],
      "metadata": {
        "id": "uuJVRLCxPL-o"
      }
    },
    {
      "cell_type": "markdown",
      "source": [
        "Peor vs mejor complejidad de caso"
      ],
      "metadata": {
        "id": "nx1PjpaJPYps"
      }
    },
    {
      "cell_type": "code",
      "source": [
        "def search_algo(num, items):\n",
        "    for item in items:\n",
        "        if item == num:\n",
        "            return True\n",
        "        else:\n",
        "            return False\n",
        "nums = [2,4,6,8,10]\n",
        "\n",
        "print(search_algo(2, nums))"
      ],
      "metadata": {
        "colab": {
          "base_uri": "https://localhost:8080/"
        },
        "id": "7ckEJEbFPhsr",
        "outputId": "08b461ff-b753-4ee0-db9d-13eda4978931"
      },
      "execution_count": null,
      "outputs": [
        {
          "output_type": "stream",
          "name": "stdout",
          "text": [
            "True\n"
          ]
        }
      ]
    },
    {
      "cell_type": "markdown",
      "source": [
        "Complejidad Espacial:"
      ],
      "metadata": {
        "id": "ufl7GmqyQdm0"
      }
    },
    {
      "cell_type": "code",
      "source": [
        "def return_squares(lista):\n",
        "    square_list = []\n",
        "    for num in lista:\n",
        "        square_list.append(num * num)\n",
        "\n",
        "    return square_list\n",
        "\n",
        "nums = [1, 3, 5, 9, 11]\n",
        "print(return_squares(nums))"
      ],
      "metadata": {
        "colab": {
          "base_uri": "https://localhost:8080/"
        },
        "id": "CuJx6L5uQhHT",
        "outputId": "fa73fd4c-02d3-4c6a-8c4a-0c264c3e0a33"
      },
      "execution_count": null,
      "outputs": [
        {
          "output_type": "stream",
          "name": "stdout",
          "text": [
            "[1, 9, 25, 81, 121]\n"
          ]
        }
      ]
    }
  ]
}